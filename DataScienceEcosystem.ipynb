{
 "cells": [
  {
   "cell_type": "markdown",
   "id": "b693f6e7",
   "metadata": {},
   "source": [
    "<h1>Data Science Tools and Ecosystem</h1>"
   ]
  },
  {
   "cell_type": "markdown",
   "id": "a5666364",
   "metadata": {},
   "source": [
    "<h3>In this notebook, Data Science Tools like RStudio, Git, Github and Ecosystem are summarized.</h3>\n",
    "<b>Objectives:</b>\n",
    "<ul>\n",
    "    <li>To learn how to control project version through Github</li>\n",
    "    <li>To learn how to write a code in R for Data manipulation and visuaization</li>\n",
    "    <li>How install and use an Integrated Devevlopment Environment to write a code in required Data Science language</li>\n",
    "    <li>How to code an ordered and un-ordered lists in Jupyter Notebook</li>\n",
    "</ul>"
   ]
  },
  {
   "cell_type": "markdown",
   "id": "f8ead629",
   "metadata": {},
   "source": [
    "<h4>Some of the popular languages that Data Scientists use are:</h4>\n",
    "<ol>\n",
    "    <li>R</li>\n",
    "    <li>Python</li>\n",
    "    <li>Java</li>\n",
    "    <li>C++</li>\n",
    "    <li>SQL</li>\n",
    "    <li>Scala</li>\n",
    "</ol>"
   ]
  },
  {
   "cell_type": "markdown",
   "id": "57c98579",
   "metadata": {},
   "source": [
    "<h4> Some of the commonly used libraries used by Data Scientists include:</h4>\n",
    "<ol>\n",
    "    <li>Numpy</li>\n",
    "    <li>SciPy</li>\n",
    "    <li>Pandas</li>\n",
    "    <li>PyTorch</li>\n",
    "    <li>TensorFlow</li>\n",
    "</ol>"
   ]
  },
  {
   "cell_type": "markdown",
   "id": "9ad8089a",
   "metadata": {},
   "source": [
    "<table>\n",
    "    <tr><th>Data Science Tools</th></tr>\n",
    "    <tr><td>Jupyterlab Notebook</td></tr>\n",
    "    <tr><td>Jupyterlab Notebook</td></tr>\n",
    "    <tr><td>Jupyter Notebook</td></tr>\n",
    "    <tr><td>RStudio</td></tr>\n",
    "    <tr><td>Visual Studio</td></tr>\n",
    "<table>\n"
   ]
  },
  {
   "cell_type": "markdown",
   "id": "9a3cfe2e",
   "metadata": {},
   "source": [
    "<h3>Below are a few examples of evaluating arithmetic expressions in Python</h3>"
   ]
  },
  {
   "cell_type": "markdown",
   "id": "92d356f1",
   "metadata": {},
   "source": [
    "<h5>This a simple arithmetic expression to mutiply then add integers</h5>"
   ]
  },
  {
   "cell_type": "code",
   "execution_count": 3,
   "id": "9792205c",
   "metadata": {},
   "outputs": [
    {
     "data": {
      "text/plain": [
       "17"
      ]
     },
     "execution_count": 3,
     "metadata": {},
     "output_type": "execute_result"
    }
   ],
   "source": [
    "(3*4)+5"
   ]
  },
  {
   "cell_type": "markdown",
   "id": "da9a72f7",
   "metadata": {},
   "source": [
    "<h5>This will convert 200 minutes to hours by diving by 60</h5>"
   ]
  },
  {
   "cell_type": "code",
   "execution_count": 8,
   "id": "2c737fe9",
   "metadata": {},
   "outputs": [
    {
     "data": {
      "text/plain": [
       "3.3333333333333335"
      ]
     },
     "execution_count": 8,
     "metadata": {},
     "output_type": "execute_result"
    }
   ],
   "source": [
    "(200/60)"
   ]
  },
  {
   "attachments": {},
   "cell_type": "markdown",
   "id": "56ef2a5d",
   "metadata": {},
   "source": [
    "<h2>Author:</h2>\n",
    "Syed Muhammad Murtaza Shah"
   ]
  },
  {
   "cell_type": "code",
   "execution_count": null,
   "id": "43e34d77",
   "metadata": {},
   "outputs": [],
   "source": []
  }
 ],
 "metadata": {
  "kernelspec": {
   "display_name": "Python 3 (ipykernel)",
   "language": "python",
   "name": "python3"
  },
  "language_info": {
   "codemirror_mode": {
    "name": "ipython",
    "version": 3
   },
   "file_extension": ".py",
   "mimetype": "text/x-python",
   "name": "python",
   "nbconvert_exporter": "python",
   "pygments_lexer": "ipython3",
   "version": "3.9.7"
  }
 },
 "nbformat": 4,
 "nbformat_minor": 5
}
